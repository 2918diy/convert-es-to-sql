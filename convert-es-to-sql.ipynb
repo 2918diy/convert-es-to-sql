{
 "cells": [
  {
   "cell_type": "code",
   "execution_count": 17,
   "metadata": {},
   "outputs": [],
   "source": [
    "import json"
   ]
  },
  {
   "cell_type": "code",
   "execution_count": 18,
   "metadata": {},
   "outputs": [],
   "source": [
    "s = \"\"\"{\n",
    "  \"mappings\":{ \"finance_product\":{ \"dynamic\":\"strict\", \"properties\":{\n",
    "\"type\": { \"type\": \"integer\", \"store\": true },\n",
    "\"id\": { \"type\": \"integer\", \"store\": true },\n",
    "\"name\": { \"type\": \"text\", \"store\": true, \"analyzer\": \"standard\" },\n",
    "\"des\": { \"type\": \"text\", \"store\": true, \"analyzer\": \"standard\" },\n",
    "\"categoryId\": { \"type\": \"integer\", \"store\": true },\n",
    "\"courseType\": { \"type\": \"integer\", \"store\": true },\n",
    "\"sharers\": {\n",
    "  \"properties\": {\n",
    "    \"sharerId\": { \"type\": \"integer\", \"store\": true },\n",
    "    \"contribution\": { \"type\": \"double\", \"store\": true }\n",
    "  }\n",
    "},\n",
    "\"live\": { \"type\": \"boolean\", \"store\": true },\n",
    "\"startDay\": { \"type\": \"integer\", \"store\": true },\n",
    "\"liveEndDay\": { \"type\": \"integer\", \"store\": true },\n",
    "\"endDay\": { \"type\": \"integer\", \"store\": true },\n",
    "\"settlementFloor\": { \"type\": \"date\", \"store\": true },\n",
    "\"checkin\": { \"type\": \"boolean\", \"store\": true }\n",
    "}}},\n",
    "  \"settings\": {\n",
    "\"number_of_shards\": 5,\n",
    "\"number_of_replicas\": 3\n",
    "  }\n",
    "}\n",
    "\"\"\""
   ]
  },
  {
   "cell_type": "code",
   "execution_count": 19,
   "metadata": {},
   "outputs": [],
   "source": [
    "js = json.loads(s)"
   ]
  },
  {
   "cell_type": "code",
   "execution_count": 28,
   "metadata": {},
   "outputs": [],
   "source": [
    "mp = {'long':'bigint','integer':'int','boolean':'boolean','scaled_float':'float','double':'float','text':'string','keyword':'string','date':'date'}"
   ]
  },
  {
   "cell_type": "code",
   "execution_count": 29,
   "metadata": {},
   "outputs": [],
   "source": [
    "def get_str(k,rg,s):\n",
    "    result = s\n",
    "    for k in rg.keys():\n",
    "        if \"type\" in rg[k].keys():\n",
    "            if rg[k]['type']=='nested':\n",
    "                result = result + \",{} struct<\".format(k) + get_str(k,rg[k]['properties'],\"\")[:-1].replace(\" \",\":\").replace(\"::\",\":\")  + \"> \\n\"\n",
    "            else:\n",
    "                result =  result + \",{} {}\".format(k,mp[rg[k]['type']]) + '\\n'\n",
    "        else:\n",
    "            result = result + \",{} struct<\".format(k)\n",
    "            for j in rg[k]['properties'].keys():\n",
    "                result = result + \"{}: {},\".format(j,mp[rg[k]['properties'][j]['type']])\n",
    "            result = result[:-1]+\">\\n\"\n",
    "    return result[1:]"
   ]
  },
  {
   "cell_type": "code",
   "execution_count": 30,
   "metadata": {},
   "outputs": [],
   "source": [
    "result = \"\"\n",
    "result = get_str(\"\",js['mappings']['finance_product']['properties'],result)"
   ]
  },
  {
   "cell_type": "code",
   "execution_count": 31,
   "metadata": {},
   "outputs": [
    {
     "name": "stdout",
     "output_type": "stream",
     "text": [
      "type int\n",
      ",id int\n",
      ",name string\n",
      ",des string\n",
      ",categoryId int\n",
      ",courseType int\n",
      ",sharers struct<sharerId: int,contribution: float>\n",
      ",live boolean\n",
      ",startDay int\n",
      ",liveEndDay int\n",
      ",endDay int\n",
      ",settlementFloor date\n",
      ",checkin boolean\n",
      "\n"
     ]
    }
   ],
   "source": [
    "print(result)"
   ]
  },
  {
   "cell_type": "code",
   "execution_count": 13,
   "metadata": {},
   "outputs": [],
   "source": [
    "s= \"\""
   ]
  },
  {
   "cell_type": "code",
   "execution_count": 14,
   "metadata": {},
   "outputs": [],
   "source": [
    "for i in lst:\n",
    "    s = s+str(i)+\",\""
   ]
  },
  {
   "cell_type": "code",
   "execution_count": 15,
   "metadata": {},
   "outputs": [
    {
     "data": {
      "text/plain": [
       "'72307,72323,72324,71983,71984,71986,72877,72878,72879,72880,72964,72968,72969,72563,72566,72569,73167,73134,73135,73136,73430,73431,73432,73730,73721,73725,73733,74019,74020,74021,'"
      ]
     },
     "execution_count": 15,
     "metadata": {},
     "output_type": "execute_result"
    }
   ],
   "source": [
    "s"
   ]
  },
  {
   "cell_type": "code",
   "execution_count": 16,
   "metadata": {},
   "outputs": [
    {
     "data": {
      "text/plain": [
       "False"
      ]
     },
     "execution_count": 16,
     "metadata": {},
     "output_type": "execute_result"
    }
   ],
   "source": [
    "69159 in lst"
   ]
  },
  {
   "cell_type": "code",
   "execution_count": null,
   "metadata": {},
   "outputs": [],
   "source": []
  }
 ],
 "metadata": {
  "kernelspec": {
   "display_name": "Python 3",
   "language": "python",
   "name": "python3"
  },
  "language_info": {
   "codemirror_mode": {
    "name": "ipython",
    "version": 3
   },
   "file_extension": ".py",
   "mimetype": "text/x-python",
   "name": "python",
   "nbconvert_exporter": "python",
   "pygments_lexer": "ipython3",
   "version": "3.7.3"
  }
 },
 "nbformat": 4,
 "nbformat_minor": 2
}
